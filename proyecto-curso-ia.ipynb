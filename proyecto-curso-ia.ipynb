{
 "cells": [
  {
   "cell_type": "markdown",
   "id": "d2572056-ec0b-4516-a417-42d7df3b22f1",
   "metadata": {},
   "source": [
    "1. Import openAI dependences (load with conda install openai)"
   ]
  },
  {
   "cell_type": "code",
   "execution_count": 1,
   "id": "507460df-82a6-4861-ac36-265eb726b9ea",
   "metadata": {},
   "outputs": [],
   "source": [
    "#Import openAI dependences (module)\n",
    "import openai"
   ]
  },
  {
   "cell_type": "markdown",
   "id": "07bb650b-ce67-43d2-856f-ca52b002a1ed",
   "metadata": {},
   "source": [
    "2. Use the API Key from openAI page"
   ]
  },
  {
   "cell_type": "code",
   "execution_count": 2,
   "id": "3b1b0e6d-fdd4-40d9-bf76-cc2ab2b249fe",
   "metadata": {},
   "outputs": [],
   "source": [
    "#Add our API Key copied from openAI page\n",
    "openai.api_key = \"\""
   ]
  },
  {
   "cell_type": "markdown",
   "id": "183229c1-1565-42a2-8089-705cc6fe11f1",
   "metadata": {},
   "source": [
    "3. Make a request"
   ]
  },
  {
   "cell_type": "code",
   "execution_count": 6,
   "id": "b0eb380f-a80a-4f74-80dc-f70f0770adf9",
   "metadata": {},
   "outputs": [
    {
     "name": "stdout",
     "output_type": "stream",
     "text": [
      "¿Cual es la actividad económica de la empresa? Venta de medicamentos\n",
      "¿A quienes va dirigida esta campaña? Personas de 20 a 90 años\n",
      "¿Que tipo de contenido deseas usar? banners\n",
      "¿En que plataformas deseas distribuir el contenido de esta campaña? Facebook\n"
     ]
    }
   ],
   "source": [
    "#Make the context of our prompt envoirement\n",
    "context = 'Eres especialista en la generación de prompts. A partir de los datos ingresados por el usuario, genera un prompt detallado y especifico para la planeación de una campaña de marketing digital.'\n",
    "\n",
    "#prompt (text/user's question)\n",
    "actividadEconomica = input(\"¿Cual es la actividad económica de la empresa?\")\n",
    "publicoObjetivo = input(\"¿A quienes va dirigida esta campaña?\")\n",
    "contenido = input(\"¿Que tipo de contenido deseas usar?\")\n",
    "canales = input(\"¿En que plataformas deseas distribuir el contenido de esta campaña?\")\n",
    "\n",
    "\n",
    "#print(prompt)\n",
    "prompt = f\"Crea una campaña de marketing digital para un negocio de {actividadEconomica}, dirigida a {publicoObjetivo}, donde el tipo de contenido será: {contenido}, y se distribuira en {canales}\""
   ]
  },
  {
   "cell_type": "markdown",
   "id": "7950dc0b-1133-49d0-a458-77a2428ab63a",
   "metadata": {},
   "source": [
    "4. Settings"
   ]
  },
  {
   "cell_type": "code",
   "execution_count": 7,
   "id": "b1993b43-7e0d-4fc9-b44a-332b7b091c28",
   "metadata": {},
   "outputs": [],
   "source": [
    "# Make the request\n",
    "conversation = [\n",
    "    {\"role\":\"system\", \"content\": context},\n",
    "    {\"role\":\"user\", \"content\": prompt}\n",
    "]\n",
    "\n",
    "response = openai.ChatCompletion.create(\n",
    "    model=\"gpt-4o-mini\",\n",
    "    messages=conversation,\n",
    "    max_tokens=1000\n",
    ")\n",
    "\n",
    "message =response.choices[0]['message']\n",
    "# print(\"{}: {}\".format(message['role'], message['content']))"
   ]
  },
  {
   "cell_type": "markdown",
   "id": "c1a3fe7a-2187-44af-806f-309061c16bea",
   "metadata": {},
   "source": [
    "5. Storage the response in any variable"
   ]
  },
  {
   "cell_type": "code",
   "execution_count": 8,
   "id": "e6fc81d8-c861-45cd-9a11-f5b0dba1e73f",
   "metadata": {},
   "outputs": [
    {
     "name": "stdout",
     "output_type": "stream",
     "text": [
      "**Prompt Detallado para la Planeación de una Campaña de Marketing Digital: Venta de Medicamentos en Facebook**\n",
      "\n",
      "**Objetivo de la campaña:**\n",
      "Diseñar una campaña de marketing digital que promocione la venta de medicamentos de manera segura y eficaz, generando conciencia sobre la importancia del acceso a medicamentos para diferentes grupos etarios, y fomentando la confianza en la compra online.\n",
      "\n",
      "**Audiencia objetivo:**\n",
      "Personas de 20 a 90 años, considerando diferentes necesidades de salud según la edad. Se segmentará la audiencia en tres grupos: \n",
      "1. Jóvenes adultos (20-35 años) interesados en productos de salud preventiva y bienestar.\n",
      "2. Adultos (36-60 años) preocupados por enfermedades crónicas y medicamentos de receta.\n",
      "3. Personas mayores (61-90 años) que requieren información clara sobre medicamentos y cuidado de la salud.\n",
      "\n",
      "**Estrategia de contenido:**\n",
      "Crear banners atractivos y claros que incluyan información relevante sobre medicamentos, destacando la facilidad de compra online, entrega a domicilio, y promociones especiales. Los mensajes deben ser adaptados a cada grupo etario para resonar con sus intereses específicos.\n",
      "\n",
      "**Ideas de contenido para banners:**\n",
      "1. **Para jóvenes adultos:**\n",
      "   - Banner con mensaje: “Cuida tu salud hoy: Accede a nuestros suplementos y medicamentos de venta libre desde casa”.\n",
      "   - Imágenes de productos en un entorno moderno y saludable.\n",
      "   - Llamado a la acción: “Explora nuestras ofertas y arréglalo en un clic”.\n",
      "\n",
      "2. **Para adultos:**\n",
      "   - Banner con mensaje: “Maneja tu salud: Encuentra los medicamentos que necesitas con solo un clic”.\n",
      "   - Gráficos que muestren un proceso de compra fácil y seguro.\n",
      "   - Ofertas especiales para el primer pedido.\n",
      "   - Llamado a la acción: “Compra ahora y mejora tu salud”.\n",
      "\n",
      "3. **Para personas mayores:**\n",
      "   - Banner con mensaje: “Medicamentos confiables desde la comodidad de tu hogar”.\n",
      "   - Utilizar imágenes que generen confianza, como testimonios o recomendaciones de médicos.\n",
      "   - Ofrecer información sobre cómo realizar la compra y soporte personalizado.\n",
      "   - Llamado a la acción: “Haz tu pedido hoy y recibe atención personalizada”.\n",
      "\n",
      "**Distribución:**\n",
      "Utilizar Facebook Ads para segmentar los banners según la demografía de cada grupo. Implementar retargeting para llegar a aquellos que visitaron el sitio web del negocio pero no realizaron una compra.\n",
      "\n",
      "**Métricas de éxito:**\n",
      "- Incremento en el tráfico del sitio web proveniente de anuncios en Facebook.\n",
      "- Tasa de conversión de visitantes a compradores.\n",
      "- Interacciones con las publicaciones (comentarios, compartidos, reacciones).\n",
      "- Feedback de la audiencia a través de encuestas o comentarios.\n",
      "\n",
      "**Presupuesto:**\n",
      "Definir un presupuesto para la inversión en anuncios de Facebook, considerando la duración de la campaña y la segmentación.\n",
      "\n",
      "**Ejemplo de cronograma:**\n",
      "- Semana 1: Diseño y aprobación de banners.\n",
      "- Semana 2: Lanzamiento de la campaña y monitoreo de resultados.\n",
      "- Semana 3-4: Ajustes de contenido y presupuesto según métricas.\n",
      "\n",
      "**Conclusión:**\n",
      "El enfoque de esta campaña es educar y facilitar el acceso a medicamentos a clientes de todas las edades, promoviendo una experiencia de compra segura y accesible en el contexto digital, adaptándose a las diferentes necesidades de salud de cada grupo target.\n"
     ]
    }
   ],
   "source": [
    "#Storage the response in a variable to use it\n",
    "primer_conversasion = response['choices'][0]['message']['content'].strip()\n",
    "\n",
    "#Use the varible\n",
    "print(primer_conversasion)"
   ]
  },
  {
   "cell_type": "code",
   "execution_count": null,
   "id": "6db9167a-411d-44d3-87ce-495afb823264",
   "metadata": {},
   "outputs": [],
   "source": []
  }
 ],
 "metadata": {
  "kernelspec": {
   "display_name": "Python 3 (ipykernel)",
   "language": "python",
   "name": "python3"
  },
  "language_info": {
   "codemirror_mode": {
    "name": "ipython",
    "version": 3
   },
   "file_extension": ".py",
   "mimetype": "text/x-python",
   "name": "python",
   "nbconvert_exporter": "python",
   "pygments_lexer": "ipython3",
   "version": "3.10.14"
  }
 },
 "nbformat": 4,
 "nbformat_minor": 5
}
